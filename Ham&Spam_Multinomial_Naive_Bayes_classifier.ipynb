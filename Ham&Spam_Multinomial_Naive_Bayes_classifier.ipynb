{
  "nbformat": 4,
  "nbformat_minor": 0,
  "metadata": {
    "colab": {
      "name": "Ham&Spam_Multinomial_Naive_Bayes_classifier.ipynb",
      "provenance": [],
      "include_colab_link": true
    },
    "kernelspec": {
      "name": "python3",
      "display_name": "Python 3"
    }
  },
  "cells": [
    {
      "cell_type": "markdown",
      "metadata": {
        "id": "view-in-github",
        "colab_type": "text"
      },
      "source": [
        "<a href=\"https://colab.research.google.com/github/Alokaraj/ML/blob/master/Ham%26Spam_Multinomial_Naive_Bayes_classifier.ipynb\" target=\"_parent\"><img src=\"https://colab.research.google.com/assets/colab-badge.svg\" alt=\"Open In Colab\"/></a>"
      ]
    },
    {
      "cell_type": "code",
      "metadata": {
        "id": "Ebb8ZelTTZmt",
        "colab_type": "code",
        "colab": {}
      },
      "source": [
        "import pandas as pd\n",
        "\n",
        "url = 'http://raw.githubusercontent.com/justmarkham/pycon-2016-tutorial/master/data/sms.tsv'\n",
        "sms = pd.read_table(url,sep = '\\t',header = None,names = ['label','message'])\n",
        "\n"
      ],
      "execution_count": 2,
      "outputs": []
    },
    {
      "cell_type": "code",
      "metadata": {
        "id": "-zN8oFk3TqdH",
        "colab_type": "code",
        "colab": {
          "base_uri": "https://localhost:8080/",
          "height": 272
        },
        "outputId": "ecbd439c-668e-4aad-c769-d991030966b1"
      },
      "source": [
        "print(sms.shape)\n",
        "\n",
        "print(sms.head(10))\n",
        "\n",
        "print(sms.label.value_counts())\n",
        "\n",
        "\n"
      ],
      "execution_count": 3,
      "outputs": [
        {
          "output_type": "stream",
          "text": [
            "(5572, 2)\n",
            "  label                                            message\n",
            "0   ham  Go until jurong point, crazy.. Available only ...\n",
            "1   ham                      Ok lar... Joking wif u oni...\n",
            "2  spam  Free entry in 2 a wkly comp to win FA Cup fina...\n",
            "3   ham  U dun say so early hor... U c already then say...\n",
            "4   ham  Nah I don't think he goes to usf, he lives aro...\n",
            "5  spam  FreeMsg Hey there darling it's been 3 week's n...\n",
            "6   ham  Even my brother is not like to speak with me. ...\n",
            "7   ham  As per your request 'Melle Melle (Oru Minnamin...\n",
            "8  spam  WINNER!! As a valued network customer you have...\n",
            "9  spam  Had your mobile 11 months or more? U R entitle...\n",
            "ham     4825\n",
            "spam     747\n",
            "Name: label, dtype: int64\n"
          ],
          "name": "stdout"
        }
      ]
    },
    {
      "cell_type": "code",
      "metadata": {
        "id": "cXrBWdQXUBHD",
        "colab_type": "code",
        "colab": {
          "base_uri": "https://localhost:8080/",
          "height": 284
        },
        "outputId": "ae322818-a00c-475c-d5bb-cef56883cf71"
      },
      "source": [
        "#to Visualization\n",
        "import matplotlib.pyplot as plt\n",
        "y = sms.label.value_counts()\n",
        "plt.show(y.plot(kind='bar'))\n",
        "\n"
      ],
      "execution_count": 4,
      "outputs": [
        {
          "output_type": "display_data",
          "data": {
            "image/png": "[encoded data removed]",
            "text/plain": [
              "<Figure size 432x288 with 1 Axes>"
            ]
          },
          "metadata": {
            "tags": [],
            "needs_background": "light"
          }
        }
      ]
    },
    {
      "cell_type": "code",
      "metadata": {
        "id": "Uha-bGmNUIH5",
        "colab_type": "code",
        "colab": {
          "base_uri": "https://localhost:8080/",
          "height": 136
        },
        "outputId": "215fbb16-9896-47a0-c390-beeb89c8727e"
      },
      "source": [
        "sms['label_num']=sms.label.map({'ham':0,'spam':1})#map 0 & 1 to ham and spam.\n",
        "\n",
        "print(sms.shape)\n",
        "\n",
        "print(sms.head(5))\n"
      ],
      "execution_count": 5,
      "outputs": [
        {
          "output_type": "stream",
          "text": [
            "(5572, 3)\n",
            "  label                                            message  label_num\n",
            "0   ham  Go until jurong point, crazy.. Available only ...          0\n",
            "1   ham                      Ok lar... Joking wif u oni...          0\n",
            "2  spam  Free entry in 2 a wkly comp to win FA Cup fina...          1\n",
            "3   ham  U dun say so early hor... U c already then say...          0\n",
            "4   ham  Nah I don't think he goes to usf, he lives aro...          0\n"
          ],
          "name": "stdout"
        }
      ]
    },
    {
      "cell_type": "code",
      "metadata": {
        "id": "2Ns_GUKPVJWR",
        "colab_type": "code",
        "colab": {
          "base_uri": "https://localhost:8080/",
          "height": 51
        },
        "outputId": "2a20566a-1f12-4a8a-e453-6bd018b1c636"
      },
      "source": [
        "\n",
        "x=sms.message\n",
        "\n",
        "y=sms.label_num\n",
        "\n",
        "print(x.shape)\n",
        "print(y.shape)"
      ],
      "execution_count": 6,
      "outputs": [
        {
          "output_type": "stream",
          "text": [
            "(5572,)\n",
            "(5572,)\n"
          ],
          "name": "stdout"
        }
      ]
    },
    {
      "cell_type": "code",
      "metadata": {
        "id": "waxUHztZUOtd",
        "colab_type": "code",
        "colab": {
          "base_uri": "https://localhost:8080/",
          "height": 85
        },
        "outputId": "3281d73a-ea70-48c4-d4b7-916435167928"
      },
      "source": [
        "# split X and y into training and testing sets\n",
        "from sklearn.model_selection import train_test_split\n",
        "X_train, X_test, y_train, y_test = train_test_split(x, y, random_state=1)\n",
        "print(X_train.shape)#traing messages\n",
        "print(X_test.shape)#testing messages\n",
        "print(y_train.shape)#training labels\n",
        "print(y_test.shape)#testing labels\n",
        "\n",
        "\n",
        "# instantiate the vectorizer\n",
        "from sklearn.feature_extraction.text import CountVectorizer\n",
        "vect = CountVectorizer()"
      ],
      "execution_count": 7,
      "outputs": [
        {
          "output_type": "stream",
          "text": [
            "(4179,)\n",
            "(1393,)\n",
            "(4179,)\n",
            "(1393,)\n"
          ],
          "name": "stdout"
        }
      ]
    },
    {
      "cell_type": "code",
      "metadata": {
        "id": "7ZIvnkPQUXR-",
        "colab_type": "code",
        "colab": {
          "base_uri": "https://localhost:8080/",
          "height": 51
        },
        "outputId": "3ee3bc7c-4fb5-4d73-9a4e-36774f1dc012"
      },
      "source": [
        "# learn training data vocabulary, then use it to create a document-term matrix\n",
        "vect.fit(X_train)\n",
        "X_train_dtm = vect.transform(X_train)\n",
        "\n",
        "\n",
        "# equivalently: combine fit and transform into a single step\n",
        "#X_train_dtm = vect.fit_transform(X_train)\n",
        "\n",
        "\n",
        "print(X_train_dtm.shape)\n",
        "\n",
        "\n",
        "# transform testing data (using fitted vocabulary) into a document-term matrix\n",
        "X_test_dtm = vect.transform(X_test)\n",
        "print(X_test_dtm.shape)\n"
      ],
      "execution_count": 8,
      "outputs": [
        {
          "output_type": "stream",
          "text": [
            "(4179, 7456)\n",
            "(1393, 7456)\n"
          ],
          "name": "stdout"
        }
      ]
    },
    {
      "cell_type": "code",
      "metadata": {
        "id": "JodS5LbZUgmB",
        "colab_type": "code",
        "colab": {
          "base_uri": "https://localhost:8080/",
          "height": 34
        },
        "outputId": "97d74bb8-85c7-41bc-93d7-2a36f333b3fe"
      },
      "source": [
        "'''The multinomial Naive Bayes classifier is suitable for classification with discrete features (e.g., word counts for text classification). \n",
        "The multinomial distribution normally requires integer feature counts.\n",
        "However, in practice, fractional counts such as tf-idf may also work'''\n",
        "\n",
        "\n",
        "# import and instantiate a Multinomial Naive Bayes model\n",
        "from sklearn.naive_bayes import MultinomialNB\n",
        "nb = MultinomialNB()\n",
        "\n",
        "\n",
        "# train the model using X_train_dtm (timing it with an IPython \"magic command\")\n",
        "nb.fit(X_train_dtm, y_train)\n",
        "\n",
        "\n",
        "# make class predictions for X_test_dtm\n",
        "y_pred_class = nb.predict(X_test_dtm)\n",
        "y_pred_class\n",
        "\n",
        "\n",
        "\n"
      ],
      "execution_count": 9,
      "outputs": [
        {
          "output_type": "execute_result",
          "data": {
            "text/plain": [
              "array([0, 0, 0, ..., 0, 1, 0])"
            ]
          },
          "metadata": {
            "tags": []
          },
          "execution_count": 9
        }
      ]
    },
    {
      "cell_type": "code",
      "metadata": {
        "id": "ufiYpH5xUsmp",
        "colab_type": "code",
        "colab": {
          "base_uri": "https://localhost:8080/",
          "height": 85
        },
        "outputId": "1d3174da-a4f7-400d-ccf7-4d35dffb1eea"
      },
      "source": [
        "test_arr=[\"I am a boy\",\"i want free entry\"]\n",
        "x_test=pd.Series(test_arr)\n",
        "x_test=vect.transform(x_test)\n",
        "nb.fit(X_train_dtm, y_train)\n",
        "y_pred_class1 = nb.predict(x_test)\n",
        "print(y_pred_class1)\n",
        "\n",
        "print(len(y_pred_class))\n",
        "\n",
        "\n",
        "print(\"True     :\",y_test.values[0:25])\n",
        "print(\"predicted:\",y_pred_class[0:25])\n"
      ],
      "execution_count": 11,
      "outputs": [
        {
          "output_type": "stream",
          "text": [
            "[0 1]\n",
            "1393\n",
            "True     : [0 0 0 0 0 0 0 0 0 0 0 0 0 0 0 0 1 0 1 0 0 0 0 0 0]\n",
            "predicted: [0 0 0 0 0 0 0 0 0 0 0 0 0 0 0 0 1 0 1 0 0 0 0 0 0]\n"
          ],
          "name": "stdout"
        }
      ]
    },
    {
      "cell_type": "code",
      "metadata": {
        "id": "ZMrqhtloUvc1",
        "colab_type": "code",
        "colab": {
          "base_uri": "https://localhost:8080/",
          "height": 51
        },
        "outputId": "cccb409a-5d89-4f6b-963a-484fc413e0c9"
      },
      "source": [
        "count=0\n",
        "for i in range(len(y_pred_class)):\n",
        "    if y_test.values[i]==y_pred_class[i]:\n",
        "        count=count+1\n",
        "print(count)\n",
        "\n",
        "print(\"accuracy percentage\",count/len(y_pred_class))\n"
      ],
      "execution_count": 12,
      "outputs": [
        {
          "output_type": "stream",
          "text": [
            "1377\n",
            "accuracy percentage 0.9885139985642498\n"
          ],
          "name": "stdout"
        }
      ]
    }
  ]
}